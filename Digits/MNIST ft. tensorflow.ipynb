{
 "cells": [
  {
   "cell_type": "code",
   "execution_count": 45,
   "metadata": {},
   "outputs": [],
   "source": [
    "# import modules and libraries\n",
    "import numpy as np\n",
    "import matplotlib.pyplot as plt\n",
    "import tensorflow as tf\n",
    "from tensorflow.examples.tutorials.mnist import input_data\n",
    "%matplotlib inline"
   ]
  },
  {
   "cell_type": "code",
   "execution_count": 46,
   "metadata": {},
   "outputs": [
    {
     "name": "stdout",
     "output_type": "stream",
     "text": [
      "Extracting MNIST_data\\train-images-idx3-ubyte.gz\n",
      "Extracting MNIST_data\\train-labels-idx1-ubyte.gz\n",
      "Extracting MNIST_data\\t10k-images-idx3-ubyte.gz\n",
      "Extracting MNIST_data\\t10k-labels-idx1-ubyte.gz\n",
      "<class 'tensorflow.contrib.learn.python.learn.datasets.base.Datasets'>\n"
     ]
    }
   ],
   "source": [
    "# import data\n",
    "mnist = input_data.read_data_sets('MNIST_data', one_hot=True)\n",
    "print(type(mnist))"
   ]
  },
  {
   "cell_type": "code",
   "execution_count": 47,
   "metadata": {},
   "outputs": [
    {
     "name": "stderr",
     "output_type": "stream",
     "text": [
      "c:\\users\\tdody\\appdata\\local\\continuum\\anaconda2\\envs\\tensorflow\\lib\\site-packages\\tensorflow\\python\\client\\session.py:1711: UserWarning: An interactive session is already active. This can cause out-of-memory errors in some cases. You must explicitly call `InteractiveSession.close()` to release resources held by the other session(s).\n",
      "  warnings.warn('An interactive session is already active. This can '\n"
     ]
    }
   ],
   "source": [
    "# start session\n",
    "sess = tf.InteractiveSession()"
   ]
  },
  {
   "cell_type": "code",
   "execution_count": 48,
   "metadata": {},
   "outputs": [
    {
     "name": "stdout",
     "output_type": "stream",
     "text": [
      "Images pixel count: 784\n",
      "Target dataset shape: 10\n",
      "Training set size: 55000\n",
      "Test set size: 10000\n"
     ]
    }
   ],
   "source": [
    "# information about the dataset\n",
    "print(\"Images pixel count:\",mnist.test.images.shape[1])\n",
    "print(\"Target dataset shape:\",mnist.train.labels.shape[1])\n",
    "print(\"Training set size:\",mnist.train.num_examples)\n",
    "print(\"Test set size:\",mnist.test.num_examples)"
   ]
  },
  {
   "cell_type": "code",
   "execution_count": 49,
   "metadata": {},
   "outputs": [
    {
     "name": "stdout",
     "output_type": "stream",
     "text": [
      "x shape: (?, 784)\n",
      "y shape: (?, 10)\n"
     ]
    }
   ],
   "source": [
    "# placeholders for dataset and target feature\n",
    "x = tf.placeholder(dtype=tf.float32,shape=(None,mnist.train.images.shape[1]))\n",
    "y = tf.placeholder(dtype=tf.float32,shape=(None,mnist.train.labels.shape[1]))\n",
    "\n",
    "# control\n",
    "print(\"x shape:\",x.shape)\n",
    "print(\"y shape:\",y.shape)"
   ]
  },
  {
   "cell_type": "code",
   "execution_count": 50,
   "metadata": {},
   "outputs": [
    {
     "name": "stdout",
     "output_type": "stream",
     "text": [
      "W shape: (784, 10)\n",
      "b shape: (10,)\n"
     ]
    }
   ],
   "source": [
    "# NN weights and biais y = x*W+b\n",
    "W = tf.Variable(tf.zeros([mnist.test.images.shape[1],mnist.test.labels.shape[1]]))\n",
    "b = tf.Variable(tf.zeros([mnist.test.labels.shape[1]]))\n",
    "\n",
    "# control\n",
    "print(\"W shape:\",W.shape)\n",
    "print(\"b shape:\",b.shape)"
   ]
  },
  {
   "cell_type": "code",
   "execution_count": 51,
   "metadata": {},
   "outputs": [],
   "source": [
    "y_pred = tf.nn.softmax(tf.matmul(x, W) + b)"
   ]
  },
  {
   "cell_type": "code",
   "execution_count": 52,
   "metadata": {},
   "outputs": [],
   "source": [
    "# compute metric\n",
    "cross_entropy = tf.reduce_mean(-tf.reduce_sum(y * tf.log(y_pred), reduction_indices=[1]))"
   ]
  },
  {
   "cell_type": "code",
   "execution_count": 53,
   "metadata": {},
   "outputs": [],
   "source": [
    "# train using gradient descent\n",
    "train_step = tf.train.GradientDescentOptimizer(0.5).minimize(cross_entropy)"
   ]
  },
  {
   "cell_type": "code",
   "execution_count": 54,
   "metadata": {},
   "outputs": [],
   "source": [
    "# initialize variables\n",
    "sess.run(tf.global_variables_initializer())"
   ]
  },
  {
   "cell_type": "code",
   "execution_count": 55,
   "metadata": {},
   "outputs": [],
   "source": [
    "# mini batch iteration\n",
    "for _ in range(1000):\n",
    "    # fill batch\n",
    "    batch = mnist.train.next_batch(batch_size=100)\n",
    "    \n",
    "    # run step\n",
    "    sess.run(train_step, feed_dict={x: batch[0], y: batch[1]})"
   ]
  },
  {
   "cell_type": "code",
   "execution_count": 56,
   "metadata": {},
   "outputs": [
    {
     "name": "stdout",
     "output_type": "stream",
     "text": [
      "0.9179\n"
     ]
    }
   ],
   "source": [
    "# evaluation\n",
    "correct_prediction = tf.equal(tf.argmax(y_pred,1), tf.argmax(y,1))\n",
    "accuracy = tf.reduce_mean(tf.cast(correct_prediction, tf.float32))\n",
    "\n",
    "print(sess.run(accuracy, feed_dict={x: mnist.test.images, y: mnist.test.labels}))\n"
   ]
  },
  {
   "cell_type": "code",
   "execution_count": 57,
   "metadata": {},
   "outputs": [],
   "source": [
    "# Display some erroneous predictions\n",
    "\n",
    "y_pred_val_classes = sess.run(y_pred, feed_dict={x: mnist.test.images}).argmax(axis=1)\n",
    "y_real_val_classes = mnist.test.labels.argmax(axis=1)\n",
    "y_real_train_classes = mnist.train.labels.argmax(axis=1)\n",
    "\n",
    "y_pred = sess.run(y_pred, feed_dict={x: mnist.test.images})\n",
    "X_val = mnist.test.images\n",
    "\n",
    "# Isolate errors indexes\n",
    "err = (y_pred_val_classes - y_real_val_classes != 0)\n",
    "\n",
    "# Store corresponding records\n",
    "\n",
    "# Error on predictions\n",
    "y_pred_val_classes_err = y_pred_val_classes[err]\n",
    "\n",
    "# Prediction on validation set (proba)\n",
    "y_pred_val_err = y_pred[err]\n",
    "\n",
    "# Real labels (vector)\n",
    "y_real_val_err = y_real_val_classes[err] \n",
    "\n",
    "# Inputs\n",
    "X_val_err = X_val[err]\n",
    "\n",
    "# Helper function\n",
    "def displayErrors(err,X_val_err, y_pred_val_classes_err,y_real_val_classes_err):\n",
    "    \"\"\"Show 9 errors\"\"\"\n",
    "    n_rows = 3\n",
    "    n_cols = 3\n",
    "    n=0 # subplot index\n",
    "    \n",
    "    # Instantiate plot\n",
    "    fig, ax = plt.subplots(n_rows,n_cols,sharex=True,sharey=True, figsize=(15, 15))\n",
    "    \n",
    "    for row in range(n_rows):\n",
    "        for col in range(n_cols):\n",
    "            error = err[n]\n",
    "            ax[row,col].imshow((X_val_err[error].reshape((28,28))),cmap='gray')\n",
    "            ax[row,col].set_title(\"Predicted :{}\\nTrue :{}\".format(y_pred_val_classes_err[error],y_real_val_classes_err[error]))\n",
    "            n+=1\n",
    "            \n",
    "# Identify the \"worst\" prediction using the largest probabilities on the erroneous set\n",
    "y_pred_prob_err = np.max(y_pred_val_err,axis = 1)\n",
    "\n",
    "# Identify the probabilities associated to the true values\n",
    "true_prob_err = np.diagonal(np.take(y_pred_val_err, y_real_train_classes, axis=1))\n",
    "    \n",
    "# Compute difference in probabilities between the prediction and the true value\n",
    "delta_pred_true_errors = y_pred_prob_err - true_prob_err\n",
    "\n",
    "# Sort list\n",
    "sorted_delta_pred = np.argsort(delta_pred_true_errors)\n",
    "\n",
    "# Worst predictions to be plotted \n",
    "most_important_errors = sorted_delta_pred[-9:]"
   ]
  },
  {
   "cell_type": "code",
   "execution_count": 58,
   "metadata": {},
   "outputs": [
    {
     "data": {
      "image/png": "[encoded data removed]",
      "text/plain": [
       "<Figure size 1080x1080 with 9 Axes>"
      ]
     },
     "metadata": {},
     "output_type": "display_data"
    }
   ],
   "source": [
    "displayErrors(most_important_errors, X_val_err, y_pred_val_classes_err, y_real_val_err)"
   ]
  },
  {
   "cell_type": "code",
   "execution_count": null,
   "metadata": {},
   "outputs": [],
   "source": []
  }
 ],
 "metadata": {
  "kernelspec": {
   "display_name": "Python 3",
   "language": "python",
   "name": "python3"
  },
  "language_info": {
   "codemirror_mode": {
    "name": "ipython",
    "version": 3
   },
   "file_extension": ".py",
   "mimetype": "text/x-python",
   "name": "python",
   "nbconvert_exporter": "python",
   "pygments_lexer": "ipython3",
   "version": "3.5.5"
  }
 },
 "nbformat": 4,
 "nbformat_minor": 2
}
